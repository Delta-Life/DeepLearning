{
 "cells": [
  {
   "cell_type": "code",
   "execution_count": 1,
   "metadata": {
    "id": "Edx1t3tm2cW-"
   },
   "outputs": [],
   "source": [
    "import torch\n",
    "import torch.nn as nn\n",
    "\n",
    "import torch.optim as optim\n",
    "\n",
    "import torchvision\n",
    "import torchvision.transforms as transforms\n",
    "\n",
    "import matplotlib.pyplot as plt\n",
    "import pandas as pd\n",
    "import numpy as np\n",
    "import seaborn as sns\n",
    "\n",
    "import torchsummary"
   ]
  },
  {
   "cell_type": "code",
   "execution_count": 2,
   "metadata": {
    "id": "6hodVRhe3hTz"
   },
   "outputs": [],
   "source": [
    "def tracker(dict, value, num):\n",
    "  dict[num] = value"
   ]
  },
  {
   "cell_type": "code",
   "execution_count": 3,
   "metadata": {
    "id": "svqR8IPPpLKH"
   },
   "outputs": [],
   "source": [
    "device = 'cuda' if torch.cuda.is_available() else 'cpu'"
   ]
  },
  {
   "cell_type": "code",
   "execution_count": 4,
   "metadata": {
    "colab": {
     "base_uri": "https://localhost:8080/",
     "height": 103,
     "referenced_widgets": [
      "01026a89de6a4d568cd7fbc12b14e268",
      "7463fc85069441f8b01c22b0325017c3",
      "aa9acd6948254440b8867e1691011b8c",
      "ae6b47cb2a794ceaad07205cf9c542c8",
      "4b3cc200bcc546b3b5923495fc95728e",
      "36dfd05b8f6e4d288927d499a1a163e3",
      "be9863ddb74a4fdcb3b018851593f5c9",
      "c1bfc6aeb18449c2868eec8a8026cc69",
      "173dc9f4cf624a15857d91eec3874424",
      "4e4fa88ef8d746468028809b5b81730f",
      "bd72e38a3e2845f485fca85f2a321094"
     ]
    },
    "id": "IGSMobSuwuLf",
    "outputId": "9a38ef32-a9b3-47d2-d19a-a6624f6ffe2a"
   },
   "outputs": [
    {
     "name": "stdout",
     "output_type": "stream",
     "text": [
      "Downloading https://www.cs.toronto.edu/~kriz/cifar-10-python.tar.gz to ./data/cifar-10-python.tar.gz\n"
     ]
    },
    {
     "data": {
      "application/vnd.jupyter.widget-view+json": {
       "model_id": "01026a89de6a4d568cd7fbc12b14e268",
       "version_major": 2,
       "version_minor": 0
      },
      "text/plain": [
       "  0%|          | 0/170498071 [00:00<?, ?it/s]"
      ]
     },
     "metadata": {},
     "output_type": "display_data"
    },
    {
     "name": "stdout",
     "output_type": "stream",
     "text": [
      "Extracting ./data/cifar-10-python.tar.gz to ./data\n",
      "Files already downloaded and verified\n"
     ]
    }
   ],
   "source": [
    "train_dataset = torchvision.datasets.CIFAR10(root='./data', train=True, download=True, transform=transforms.ToTensor())\n",
    "val_dataset = torchvision.datasets.CIFAR10(root='./data', train=False, download=True, transform=transforms.ToTensor())"
   ]
  },
  {
   "cell_type": "code",
   "execution_count": 5,
   "metadata": {
    "colab": {
     "base_uri": "https://localhost:8080/"
    },
    "id": "WyPvMSfl3xXn",
    "outputId": "1681d2aa-dd42-43b9-c9c7-beefb6e30ab3"
   },
   "outputs": [
    {
     "name": "stdout",
     "output_type": "stream",
     "text": [
      "0.49139965 0.48215845 0.4465309\n",
      "0.49421427 0.48513138 0.45040908\n"
     ]
    }
   ],
   "source": [
    "train_meanRGB = [np.mean(x.numpy(), axis=(1,2)) for x, _ in train_dataset]\n",
    "train_stdRGB = [np.std(x.numpy(), axis=(1,2)) for x, _ in train_dataset]\n",
    "\n",
    "train_meanR = np.mean([m[0] for m in train_meanRGB])\n",
    "train_meanG = np.mean([m[1] for m in train_meanRGB])\n",
    "train_meanB = np.mean([m[2] for m in train_meanRGB])\n",
    "train_stdR = np.mean([s[0] for s in train_stdRGB])\n",
    "train_stdG = np.mean([s[1] for s in train_stdRGB])\n",
    "train_stdB = np.mean([s[2] for s in train_stdRGB])\n",
    "\n",
    "\n",
    "val_meanRGB = [np.mean(x.numpy(), axis=(1,2)) for x, _ in val_dataset]\n",
    "val_stdRGB = [np.std(x.numpy(), axis=(1,2)) for x, _ in val_dataset]\n",
    "\n",
    "val_meanR = np.mean([m[0] for m in val_meanRGB])\n",
    "val_meanG = np.mean([m[1] for m in val_meanRGB])\n",
    "val_meanB = np.mean([m[2] for m in val_meanRGB])\n",
    "\n",
    "val_stdR = np.mean([s[0] for s in val_stdRGB])\n",
    "val_stdG = np.mean([s[1] for s in val_stdRGB])\n",
    "val_stdB = np.mean([s[2] for s in val_stdRGB])\n",
    "\n",
    "print(train_meanR, train_meanG, train_meanB)\n",
    "print(val_meanR, val_meanG, val_meanB)"
   ]
  },
  {
   "cell_type": "code",
   "execution_count": 6,
   "metadata": {
    "id": "fXqXbGCa5Njp"
   },
   "outputs": [],
   "source": [
    "train_transformation = transforms.Compose([\n",
    "                        transforms.ToTensor(),\n",
    "                        transforms.Resize(32),\n",
    "                        transforms.Normalize([train_meanR, train_meanG, train_meanB],[train_stdR, train_stdG, train_stdB]),\n",
    "                        transforms.RandomHorizontalFlip(),\n",
    "])\n",
    "\n",
    "val_transformation = transforms.Compose([\n",
    "                        transforms.ToTensor(),\n",
    "                        transforms.Resize(32),\n",
    "                        transforms.Normalize([train_meanR, train_meanG, train_meanB],[train_stdR, train_stdG, train_stdB]),\n",
    "])"
   ]
  },
  {
   "cell_type": "code",
   "execution_count": 7,
   "metadata": {
    "id": "tViai0ExxQcc"
   },
   "outputs": [],
   "source": [
    "train_dataset.transform = train_transformation\n",
    "val_dataset.transform = val_transformation\n",
    "\n",
    "train_dl = torch.utils.data.DataLoader(train_dataset, batch_size=256, shuffle=True)\n",
    "val_dl = torch.utils.data.DataLoader(val_dataset, batch_size=256, shuffle=True)"
   ]
  },
  {
   "cell_type": "code",
   "execution_count": 8,
   "metadata": {
    "id": "62HmfeMAwVOD"
   },
   "outputs": [],
   "source": [
    "def conv3x3(in_planes, out_planes, stride=1):\n",
    "    return nn.Conv2d(in_planes, out_planes, kernel_size=3, stride=stride, padding=1, bias=False)\n",
    "\n",
    "def conv1x1(in_planes, out_planes, stride=1):\n",
    "    return nn.Conv2d(in_planes, out_planes, kernel_size=1, stride=stride,  bias=False)"
   ]
  },
  {
   "cell_type": "code",
   "execution_count": 9,
   "metadata": {
    "id": "H9CEFa7Q0BDE"
   },
   "outputs": [],
   "source": [
    "class BasicBlock(nn.Module):\n",
    "    expansion = 1\n",
    "    def __init__(self, in_planes, out_planes, stride=1, down_sample=None):\n",
    "        super().__init__()\n",
    "        self.conv = nn.Sequential(\n",
    "            conv3x3(in_planes, out_planes, stride),\n",
    "            nn.BatchNorm2d(out_planes),\n",
    "            nn.ReLU(),\n",
    "            conv3x3(out_planes, out_planes, stride),\n",
    "            nn.BatchNorm2d(out_planes)\n",
    "        )\n",
    "\n",
    "        self.down_sample = down_sample\n",
    "        self.relu = nn.ReLU()\n",
    "\n",
    "    def forward(self, x):\n",
    "        identity = x\n",
    "\n",
    "        out = self.conv(x)\n",
    "    \n",
    "        if self.down_sample is not None:\n",
    "            identity = self.down_sample(x)\n",
    "    \n",
    "        out += identity\n",
    "        out = self.relu(out)\n",
    "\n",
    "        return out"
   ]
  },
  {
   "cell_type": "code",
   "execution_count": 10,
   "metadata": {
    "id": "wUk3YHQW_UWj"
   },
   "outputs": [],
   "source": [
    "class BottleNeck(nn.Module):\n",
    "    expansion = 4\n",
    "\n",
    "    def __init__(self, in_planes, out_planes, stride=1, down_sample=None):\n",
    "        super().__init__()\n",
    "        self.conv = nn.Sequential(\n",
    "            conv1x1(in_planes, out_planes),\n",
    "            nn.BatchNorm2d(out_planes),\n",
    "            nn.ReLU(),\n",
    "            conv3x3(out_planes, out_planes, stride),\n",
    "            nn.BatchNorm2d(out_planes),\n",
    "            nn.ReLU(),\n",
    "            conv1x1(out_planes, out_planes * self.expansion),\n",
    "            nn.BatchNorm2d(out_planes * self.expansion)\n",
    "        )\n",
    "\n",
    "        self.down_sample = down_sample\n",
    "        self.relu = nn.ReLU()\n",
    "  \n",
    "    def forward(self, x):\n",
    "        identity = x\n",
    "\n",
    "        out = self.conv(x)\n",
    "    \n",
    "        if self.down_sample is not None:\n",
    "            identity = self.down_sample(x)\n",
    "    \n",
    "        out += identity\n",
    "        out = self.relu(out)\n",
    "\n",
    "        return out"
   ]
  },
  {
   "cell_type": "code",
   "execution_count": 11,
   "metadata": {
    "id": "4jZZK5vmgA7A"
   },
   "outputs": [],
   "source": [
    "class ResNet(nn.Module):\n",
    "\n",
    "    def __init__(self, block, layers, num_classes=1000, zero_init_residual=False):\n",
    "        super().__init__()\n",
    "        self.inplanes = 16\n",
    "        self.conv1 = nn.Conv2d(3, 16, kernel_size=3, stride=1, padding=1, bias=False)\n",
    "        self.bn1 = nn.BatchNorm2d(16)\n",
    "        self.relu = nn.ReLU(inplace=True)\n",
    "        #self.maxpool = nn.MaxPool2d(kernel_size=3, stride=2, padding=1)\n",
    "        \n",
    "        self.layer1 = self._make_layer(block, 16, layers[0], stride=1)\n",
    "        self.layer2 = self._make_layer(block, 32, layers[1], stride=1)\n",
    "        self.layer3 = self._make_layer(block, 64, layers[2], stride=2)\n",
    "        self.layer4 = self._make_layer(block, 128, layers[3], stride=2)\n",
    "        \n",
    "        self.avgpool = nn.AdaptiveAvgPool2d((1, 1))\n",
    "        self.fc = nn.Linear(128 * block.expansion, num_classes)\n",
    "\n",
    "    def _make_layer(self, block, planes, blocks, stride=1):\n",
    "        downsample = None\n",
    "        if stride != 1 or self.inplanes != planes * block.expansion:\n",
    "            downsample = nn.Sequential(\n",
    "                conv1x1(self.inplanes, planes * block.expansion, stride),\n",
    "                nn.BatchNorm2d(planes * block.expansion),\n",
    "            )\n",
    "\n",
    "        layers = []\n",
    "        layers.append(block(self.inplanes, planes, stride, downsample))\n",
    "        self.inplanes = planes * block.expansion\n",
    "        for _ in range(1, blocks):\n",
    "            layers.append(block(self.inplanes, planes))\n",
    "\n",
    "        return nn.Sequential(*layers)\n",
    "\n",
    "    def forward(self, x):\n",
    "        x = self.conv1(x)\n",
    "        x = self.bn1(x)\n",
    "        x = self.relu(x)\n",
    "        #x = self.maxpool(x)\n",
    "\n",
    "        x = self.layer1(x)\n",
    "        x = self.layer2(x)\n",
    "        x = self.layer3(x)\n",
    "        x = self.layer4(x)\n",
    "        \n",
    "        x = self.avgpool(x)\n",
    "        x = x.view(x.size(0), -1)\n",
    "        x = self.fc(x)\n",
    "\n",
    "        return x"
   ]
  },
  {
   "cell_type": "code",
   "execution_count": 12,
   "metadata": {
    "id": "LOFmv0a8ybYu"
   },
   "outputs": [],
   "source": [
    "resnet50 = ResNet(BottleNeck, [3, 4, 6, 3], 10, True).to(device)"
   ]
  },
  {
   "cell_type": "code",
   "execution_count": 14,
   "metadata": {
    "colab": {
     "base_uri": "https://localhost:8080/"
    },
    "id": "YRFtsgImydww",
    "outputId": "99c21c0b-47b8-42f3-811a-2646478158a7"
   },
   "outputs": [
    {
     "name": "stdout",
     "output_type": "stream",
     "text": [
      "----------------------------------------------------------------\n",
      "        Layer (type)               Output Shape         Param #\n",
      "================================================================\n",
      "            Conv2d-1           [-1, 16, 32, 32]             432\n",
      "       BatchNorm2d-2           [-1, 16, 32, 32]              32\n",
      "              ReLU-3           [-1, 16, 32, 32]               0\n",
      "            Conv2d-4           [-1, 16, 32, 32]             256\n",
      "       BatchNorm2d-5           [-1, 16, 32, 32]              32\n",
      "              ReLU-6           [-1, 16, 32, 32]               0\n",
      "            Conv2d-7           [-1, 16, 32, 32]           2,304\n",
      "       BatchNorm2d-8           [-1, 16, 32, 32]              32\n",
      "              ReLU-9           [-1, 16, 32, 32]               0\n",
      "           Conv2d-10           [-1, 64, 32, 32]           1,024\n",
      "      BatchNorm2d-11           [-1, 64, 32, 32]             128\n",
      "           Conv2d-12           [-1, 64, 32, 32]           1,024\n",
      "      BatchNorm2d-13           [-1, 64, 32, 32]             128\n",
      "             ReLU-14           [-1, 64, 32, 32]               0\n",
      "       BottleNeck-15           [-1, 64, 32, 32]               0\n",
      "           Conv2d-16           [-1, 16, 32, 32]           1,024\n",
      "      BatchNorm2d-17           [-1, 16, 32, 32]              32\n",
      "             ReLU-18           [-1, 16, 32, 32]               0\n",
      "           Conv2d-19           [-1, 16, 32, 32]           2,304\n",
      "      BatchNorm2d-20           [-1, 16, 32, 32]              32\n",
      "             ReLU-21           [-1, 16, 32, 32]               0\n",
      "           Conv2d-22           [-1, 64, 32, 32]           1,024\n",
      "      BatchNorm2d-23           [-1, 64, 32, 32]             128\n",
      "             ReLU-24           [-1, 64, 32, 32]               0\n",
      "       BottleNeck-25           [-1, 64, 32, 32]               0\n",
      "           Conv2d-26           [-1, 16, 32, 32]           1,024\n",
      "      BatchNorm2d-27           [-1, 16, 32, 32]              32\n",
      "             ReLU-28           [-1, 16, 32, 32]               0\n",
      "           Conv2d-29           [-1, 16, 32, 32]           2,304\n",
      "      BatchNorm2d-30           [-1, 16, 32, 32]              32\n",
      "             ReLU-31           [-1, 16, 32, 32]               0\n",
      "           Conv2d-32           [-1, 64, 32, 32]           1,024\n",
      "      BatchNorm2d-33           [-1, 64, 32, 32]             128\n",
      "             ReLU-34           [-1, 64, 32, 32]               0\n",
      "       BottleNeck-35           [-1, 64, 32, 32]               0\n",
      "           Conv2d-36           [-1, 32, 32, 32]           2,048\n",
      "      BatchNorm2d-37           [-1, 32, 32, 32]              64\n",
      "             ReLU-38           [-1, 32, 32, 32]               0\n",
      "           Conv2d-39           [-1, 32, 32, 32]           9,216\n",
      "      BatchNorm2d-40           [-1, 32, 32, 32]              64\n",
      "             ReLU-41           [-1, 32, 32, 32]               0\n",
      "           Conv2d-42          [-1, 128, 32, 32]           4,096\n",
      "      BatchNorm2d-43          [-1, 128, 32, 32]             256\n",
      "           Conv2d-44          [-1, 128, 32, 32]           8,192\n",
      "      BatchNorm2d-45          [-1, 128, 32, 32]             256\n",
      "             ReLU-46          [-1, 128, 32, 32]               0\n",
      "       BottleNeck-47          [-1, 128, 32, 32]               0\n",
      "           Conv2d-48           [-1, 32, 32, 32]           4,096\n",
      "      BatchNorm2d-49           [-1, 32, 32, 32]              64\n",
      "             ReLU-50           [-1, 32, 32, 32]               0\n",
      "           Conv2d-51           [-1, 32, 32, 32]           9,216\n",
      "      BatchNorm2d-52           [-1, 32, 32, 32]              64\n",
      "             ReLU-53           [-1, 32, 32, 32]               0\n",
      "           Conv2d-54          [-1, 128, 32, 32]           4,096\n",
      "      BatchNorm2d-55          [-1, 128, 32, 32]             256\n",
      "             ReLU-56          [-1, 128, 32, 32]               0\n",
      "       BottleNeck-57          [-1, 128, 32, 32]               0\n",
      "           Conv2d-58           [-1, 32, 32, 32]           4,096\n",
      "      BatchNorm2d-59           [-1, 32, 32, 32]              64\n",
      "             ReLU-60           [-1, 32, 32, 32]               0\n",
      "           Conv2d-61           [-1, 32, 32, 32]           9,216\n",
      "      BatchNorm2d-62           [-1, 32, 32, 32]              64\n",
      "             ReLU-63           [-1, 32, 32, 32]               0\n",
      "           Conv2d-64          [-1, 128, 32, 32]           4,096\n",
      "      BatchNorm2d-65          [-1, 128, 32, 32]             256\n",
      "             ReLU-66          [-1, 128, 32, 32]               0\n",
      "       BottleNeck-67          [-1, 128, 32, 32]               0\n",
      "           Conv2d-68           [-1, 32, 32, 32]           4,096\n",
      "      BatchNorm2d-69           [-1, 32, 32, 32]              64\n",
      "             ReLU-70           [-1, 32, 32, 32]               0\n",
      "           Conv2d-71           [-1, 32, 32, 32]           9,216\n",
      "      BatchNorm2d-72           [-1, 32, 32, 32]              64\n",
      "             ReLU-73           [-1, 32, 32, 32]               0\n",
      "           Conv2d-74          [-1, 128, 32, 32]           4,096\n",
      "      BatchNorm2d-75          [-1, 128, 32, 32]             256\n",
      "             ReLU-76          [-1, 128, 32, 32]               0\n",
      "       BottleNeck-77          [-1, 128, 32, 32]               0\n",
      "           Conv2d-78           [-1, 64, 32, 32]           8,192\n",
      "      BatchNorm2d-79           [-1, 64, 32, 32]             128\n",
      "             ReLU-80           [-1, 64, 32, 32]               0\n",
      "           Conv2d-81           [-1, 64, 16, 16]          36,864\n",
      "      BatchNorm2d-82           [-1, 64, 16, 16]             128\n",
      "             ReLU-83           [-1, 64, 16, 16]               0\n",
      "           Conv2d-84          [-1, 256, 16, 16]          16,384\n",
      "      BatchNorm2d-85          [-1, 256, 16, 16]             512\n",
      "           Conv2d-86          [-1, 256, 16, 16]          32,768\n",
      "      BatchNorm2d-87          [-1, 256, 16, 16]             512\n",
      "             ReLU-88          [-1, 256, 16, 16]               0\n",
      "       BottleNeck-89          [-1, 256, 16, 16]               0\n",
      "           Conv2d-90           [-1, 64, 16, 16]          16,384\n",
      "      BatchNorm2d-91           [-1, 64, 16, 16]             128\n",
      "             ReLU-92           [-1, 64, 16, 16]               0\n",
      "           Conv2d-93           [-1, 64, 16, 16]          36,864\n",
      "      BatchNorm2d-94           [-1, 64, 16, 16]             128\n",
      "             ReLU-95           [-1, 64, 16, 16]               0\n",
      "           Conv2d-96          [-1, 256, 16, 16]          16,384\n",
      "      BatchNorm2d-97          [-1, 256, 16, 16]             512\n",
      "             ReLU-98          [-1, 256, 16, 16]               0\n",
      "       BottleNeck-99          [-1, 256, 16, 16]               0\n",
      "          Conv2d-100           [-1, 64, 16, 16]          16,384\n",
      "     BatchNorm2d-101           [-1, 64, 16, 16]             128\n",
      "            ReLU-102           [-1, 64, 16, 16]               0\n",
      "          Conv2d-103           [-1, 64, 16, 16]          36,864\n",
      "     BatchNorm2d-104           [-1, 64, 16, 16]             128\n",
      "            ReLU-105           [-1, 64, 16, 16]               0\n",
      "          Conv2d-106          [-1, 256, 16, 16]          16,384\n",
      "     BatchNorm2d-107          [-1, 256, 16, 16]             512\n",
      "            ReLU-108          [-1, 256, 16, 16]               0\n",
      "      BottleNeck-109          [-1, 256, 16, 16]               0\n",
      "          Conv2d-110           [-1, 64, 16, 16]          16,384\n",
      "     BatchNorm2d-111           [-1, 64, 16, 16]             128\n",
      "            ReLU-112           [-1, 64, 16, 16]               0\n",
      "          Conv2d-113           [-1, 64, 16, 16]          36,864\n",
      "     BatchNorm2d-114           [-1, 64, 16, 16]             128\n",
      "            ReLU-115           [-1, 64, 16, 16]               0\n",
      "          Conv2d-116          [-1, 256, 16, 16]          16,384\n",
      "     BatchNorm2d-117          [-1, 256, 16, 16]             512\n",
      "            ReLU-118          [-1, 256, 16, 16]               0\n",
      "      BottleNeck-119          [-1, 256, 16, 16]               0\n",
      "          Conv2d-120           [-1, 64, 16, 16]          16,384\n",
      "     BatchNorm2d-121           [-1, 64, 16, 16]             128\n",
      "            ReLU-122           [-1, 64, 16, 16]               0\n",
      "          Conv2d-123           [-1, 64, 16, 16]          36,864\n",
      "     BatchNorm2d-124           [-1, 64, 16, 16]             128\n",
      "            ReLU-125           [-1, 64, 16, 16]               0\n",
      "          Conv2d-126          [-1, 256, 16, 16]          16,384\n",
      "     BatchNorm2d-127          [-1, 256, 16, 16]             512\n",
      "            ReLU-128          [-1, 256, 16, 16]               0\n",
      "      BottleNeck-129          [-1, 256, 16, 16]               0\n",
      "          Conv2d-130           [-1, 64, 16, 16]          16,384\n",
      "     BatchNorm2d-131           [-1, 64, 16, 16]             128\n",
      "            ReLU-132           [-1, 64, 16, 16]               0\n",
      "          Conv2d-133           [-1, 64, 16, 16]          36,864\n",
      "     BatchNorm2d-134           [-1, 64, 16, 16]             128\n",
      "            ReLU-135           [-1, 64, 16, 16]               0\n",
      "          Conv2d-136          [-1, 256, 16, 16]          16,384\n",
      "     BatchNorm2d-137          [-1, 256, 16, 16]             512\n",
      "            ReLU-138          [-1, 256, 16, 16]               0\n",
      "      BottleNeck-139          [-1, 256, 16, 16]               0\n",
      "          Conv2d-140          [-1, 128, 16, 16]          32,768\n",
      "     BatchNorm2d-141          [-1, 128, 16, 16]             256\n",
      "            ReLU-142          [-1, 128, 16, 16]               0\n",
      "          Conv2d-143            [-1, 128, 8, 8]         147,456\n",
      "     BatchNorm2d-144            [-1, 128, 8, 8]             256\n",
      "            ReLU-145            [-1, 128, 8, 8]               0\n",
      "          Conv2d-146            [-1, 512, 8, 8]          65,536\n",
      "     BatchNorm2d-147            [-1, 512, 8, 8]           1,024\n",
      "          Conv2d-148            [-1, 512, 8, 8]         131,072\n",
      "     BatchNorm2d-149            [-1, 512, 8, 8]           1,024\n",
      "            ReLU-150            [-1, 512, 8, 8]               0\n",
      "      BottleNeck-151            [-1, 512, 8, 8]               0\n",
      "          Conv2d-152            [-1, 128, 8, 8]          65,536\n",
      "     BatchNorm2d-153            [-1, 128, 8, 8]             256\n",
      "            ReLU-154            [-1, 128, 8, 8]               0\n",
      "          Conv2d-155            [-1, 128, 8, 8]         147,456\n",
      "     BatchNorm2d-156            [-1, 128, 8, 8]             256\n",
      "            ReLU-157            [-1, 128, 8, 8]               0\n",
      "          Conv2d-158            [-1, 512, 8, 8]          65,536\n",
      "     BatchNorm2d-159            [-1, 512, 8, 8]           1,024\n",
      "            ReLU-160            [-1, 512, 8, 8]               0\n",
      "      BottleNeck-161            [-1, 512, 8, 8]               0\n",
      "          Conv2d-162            [-1, 128, 8, 8]          65,536\n",
      "     BatchNorm2d-163            [-1, 128, 8, 8]             256\n",
      "            ReLU-164            [-1, 128, 8, 8]               0\n",
      "          Conv2d-165            [-1, 128, 8, 8]         147,456\n",
      "     BatchNorm2d-166            [-1, 128, 8, 8]             256\n",
      "            ReLU-167            [-1, 128, 8, 8]               0\n",
      "          Conv2d-168            [-1, 512, 8, 8]          65,536\n",
      "     BatchNorm2d-169            [-1, 512, 8, 8]           1,024\n",
      "            ReLU-170            [-1, 512, 8, 8]               0\n",
      "      BottleNeck-171            [-1, 512, 8, 8]               0\n",
      "AdaptiveAvgPool2d-172            [-1, 512, 1, 1]               0\n",
      "          Linear-173                   [-1, 10]           5,130\n",
      "================================================================\n",
      "Total params: 1,484,186\n",
      "Trainable params: 1,484,186\n",
      "Non-trainable params: 0\n",
      "----------------------------------------------------------------\n",
      "Input size (MB): 0.01\n",
      "Forward/backward pass size (MB): 57.44\n",
      "Params size (MB): 5.66\n",
      "Estimated Total Size (MB): 63.11\n",
      "----------------------------------------------------------------\n"
     ]
    }
   ],
   "source": [
    "torchsummary.summary(resnet50, (3, 32, 32))"
   ]
  },
  {
   "cell_type": "code",
   "execution_count": 15,
   "metadata": {
    "colab": {
     "base_uri": "https://localhost:8080/"
    },
    "id": "SppFJ6RSymew",
    "outputId": "059c3c98-98f1-44e3-a37a-4dcced5de72d"
   },
   "outputs": [
    {
     "name": "stdout",
     "output_type": "stream",
     "text": [
      "tensor([[ 0.0539, -0.0667, -0.3332, -0.1423, -0.1128, -0.3174,  0.3709,  0.2839,\n",
      "          0.0441, -0.2058]], device='cuda:0', grad_fn=<AddmmBackward0>)\n"
     ]
    }
   ],
   "source": [
    "a=torch.ones(1,3,32,32).to(device)\n",
    "out = resnet50(a)\n",
    "print(out)"
   ]
  },
  {
   "cell_type": "code",
   "execution_count": 16,
   "metadata": {
    "id": "VHmqKGmUyn5-"
   },
   "outputs": [],
   "source": [
    "criterion = nn.CrossEntropyLoss().to(device)\n",
    "optimizer = torch.optim.SGD(resnet50.parameters(), lr = 0.1, momentum = 0.9, weight_decay=5e-4)\n",
    "lr_sche = optim.lr_scheduler.StepLR(optimizer, step_size=10, gamma=0.5)"
   ]
  },
  {
   "cell_type": "code",
   "execution_count": 17,
   "metadata": {
    "id": "dC0DvKHIzeul"
   },
   "outputs": [],
   "source": [
    "loss_dict = {}\n",
    "acc_dict = {}"
   ]
  },
  {
   "cell_type": "code",
   "execution_count": 18,
   "metadata": {
    "id": "DG8yvjQ_y1HR"
   },
   "outputs": [],
   "source": [
    "def acc_check(net, test_set, epoch, save=1):\n",
    "    correct = 0\n",
    "    total = 0\n",
    "    with torch.no_grad():\n",
    "        for data in test_set:\n",
    "            images, labels = data\n",
    "            images = images.to(device)\n",
    "            labels = labels.to(device)\n",
    "            outputs = net(images)\n",
    "\n",
    "            _, predicted = torch.max(outputs.data, 1)\n",
    "\n",
    "            total += labels.size(0)\n",
    "            correct += (predicted == labels).sum().item()\n",
    "    \n",
    "    acc = (100 * correct / total)\n",
    "    print('Accuracy: {0:0.5f}%'.format(acc))\n",
    "    if save:\n",
    "        torch.save(net.state_dict(), \"./model/model_epoch_{}_acc_{}.pth\".format(epoch, int(acc)))\n",
    "    return acc"
   ]
  },
  {
   "cell_type": "code",
   "execution_count": 21,
   "metadata": {
    "colab": {
     "base_uri": "https://localhost:8080/",
     "height": 1000
    },
    "id": "dClXNdhMy2gk",
    "outputId": "a206f18a-3180-4152-e6ea-a8895ff59007"
   },
   "outputs": [
    {
     "name": "stdout",
     "output_type": "stream",
     "text": [
      "  1/100 | loss: 1.61030\n",
      "Accuracy: 45.58000%\n",
      "  2/100 | loss: 1.28994\n",
      "Accuracy: 59.05000%\n",
      "  3/100 | loss: 1.05316\n",
      "Accuracy: 63.43000%\n",
      "  4/100 | loss: 0.90946\n",
      "Accuracy: 66.96000%\n",
      "  5/100 | loss: 0.80163\n",
      "Accuracy: 71.55000%\n",
      "  6/100 | loss: 0.69429\n",
      "Accuracy: 74.61000%\n",
      "  7/100 | loss: 0.61530\n",
      "Accuracy: 77.46000%\n",
      "  8/100 | loss: 0.47474\n",
      "Accuracy: 81.20000%\n",
      "  9/100 | loss: 0.43252\n",
      "Accuracy: 82.67000%\n",
      " 10/100 | loss: 0.40047\n",
      "Accuracy: 82.47000%\n",
      " 11/100 | loss: 0.37714\n",
      "Accuracy: 82.73000%\n",
      " 12/100 | loss: 0.35766\n",
      "Accuracy: 83.27000%\n",
      " 13/100 | loss: 0.34005\n",
      "Accuracy: 84.02000%\n",
      " 14/100 | loss: 0.31856\n",
      "Accuracy: 84.03000%\n",
      " 15/100 | loss: 0.30797\n",
      "Accuracy: 84.48000%\n",
      " 16/100 | loss: 0.28720\n",
      "Accuracy: 84.84000%\n",
      " 17/100 | loss: 0.27139\n",
      "Accuracy: 85.10000%\n",
      " 18/100 | loss: 0.18102\n",
      "Accuracy: 86.35000%\n",
      " 19/100 | loss: 0.14601\n",
      "Accuracy: 87.00000%\n",
      " 20/100 | loss: 0.12411\n",
      "Accuracy: 87.25000%\n",
      " 21/100 | loss: 0.11289\n",
      "Accuracy: 86.74000%\n",
      " 22/100 | loss: 0.11157\n",
      "Accuracy: 86.46000%\n",
      " 23/100 | loss: 0.10402\n",
      "Accuracy: 86.28000%\n",
      " 24/100 | loss: 0.10001\n",
      "Accuracy: 86.98000%\n",
      " 25/100 | loss: 0.09887\n",
      "Accuracy: 86.12000%\n",
      " 26/100 | loss: 0.10161\n",
      "Accuracy: 86.01000%\n",
      " 27/100 | loss: 0.10868\n",
      "Accuracy: 86.24000%\n",
      " 28/100 | loss: 0.04964\n",
      "Accuracy: 87.96000%\n",
      " 29/100 | loss: 0.02534\n",
      "Accuracy: 88.12000%\n",
      " 30/100 | loss: 0.01926\n",
      "Accuracy: 88.27000%\n",
      " 31/100 | loss: 0.01402\n",
      "Accuracy: 88.43000%\n",
      " 32/100 | loss: 0.01068\n",
      "Accuracy: 88.50000%\n",
      " 33/100 | loss: 0.00807\n",
      "Accuracy: 88.46000%\n",
      " 34/100 | loss: 0.00680\n",
      "Accuracy: 88.45000%\n",
      " 35/100 | loss: 0.00563\n",
      "Accuracy: 88.67000%\n",
      " 36/100 | loss: 0.00540\n",
      "Accuracy: 88.58000%\n",
      " 37/100 | loss: 0.00507\n",
      "Accuracy: 88.70000%\n",
      " 38/100 | loss: 0.00447\n",
      "Accuracy: 88.64000%\n",
      " 39/100 | loss: 0.00420\n",
      "Accuracy: 88.87000%\n",
      " 40/100 | loss: 0.00405\n",
      "Accuracy: 88.83000%\n",
      " 41/100 | loss: 0.00414\n",
      "Accuracy: 88.63000%\n",
      " 42/100 | loss: 0.00388\n",
      "Accuracy: 88.80000%\n",
      " 43/100 | loss: 0.00400\n",
      "Accuracy: 88.73000%\n",
      " 44/100 | loss: 0.00402\n",
      "Accuracy: 88.60000%\n",
      " 45/100 | loss: 0.00385\n",
      "Accuracy: 88.75000%\n",
      " 46/100 | loss: 0.00378\n",
      "Accuracy: 88.80000%\n",
      " 47/100 | loss: 0.00366\n",
      "Accuracy: 88.99000%\n",
      " 48/100 | loss: 0.00367\n",
      "Accuracy: 88.60000%\n",
      " 49/100 | loss: 0.00360\n",
      "Accuracy: 88.86000%\n",
      " 50/100 | loss: 0.00366\n",
      "Accuracy: 88.83000%\n",
      " 51/100 | loss: 0.00357\n",
      "Accuracy: 88.96000%\n",
      " 52/100 | loss: 0.00355\n",
      "Accuracy: 88.56000%\n",
      " 53/100 | loss: 0.00362\n",
      "Accuracy: 88.64000%\n",
      " 54/100 | loss: 0.00363\n",
      "Accuracy: 88.54000%\n",
      " 55/100 | loss: 0.00360\n",
      "Accuracy: 88.73000%\n",
      " 56/100 | loss: 0.00358\n",
      "Accuracy: 88.63000%\n",
      " 57/100 | loss: 0.00351\n",
      "Accuracy: 88.40000%\n",
      " 58/100 | loss: 0.00355\n",
      "Accuracy: 88.72000%\n",
      " 59/100 | loss: 0.00347\n",
      "Accuracy: 88.73000%\n",
      " 60/100 | loss: 0.00351\n",
      "Accuracy: 88.76000%\n"
     ]
    },
    {
     "ename": "KeyboardInterrupt",
     "evalue": "ignored",
     "output_type": "error",
     "traceback": [
      "\u001b[0;31m---------------------------------------------------------------------------\u001b[0m",
      "\u001b[0;31mKeyboardInterrupt\u001b[0m                         Traceback (most recent call last)",
      "\u001b[0;32m<ipython-input-21-865ab1f8c918>\u001b[0m in \u001b[0;36m<module>\u001b[0;34m()\u001b[0m\n\u001b[1;32m     17\u001b[0m         \u001b[0moptimizer\u001b[0m\u001b[0;34m.\u001b[0m\u001b[0mstep\u001b[0m\u001b[0;34m(\u001b[0m\u001b[0;34m)\u001b[0m\u001b[0;34m\u001b[0m\u001b[0;34m\u001b[0m\u001b[0m\n\u001b[1;32m     18\u001b[0m \u001b[0;34m\u001b[0m\u001b[0m\n\u001b[0;32m---> 19\u001b[0;31m         \u001b[0mrunning_loss\u001b[0m \u001b[0;34m+=\u001b[0m \u001b[0mloss\u001b[0m\u001b[0;34m.\u001b[0m\u001b[0mitem\u001b[0m\u001b[0;34m(\u001b[0m\u001b[0;34m)\u001b[0m\u001b[0;34m\u001b[0m\u001b[0;34m\u001b[0m\u001b[0m\n\u001b[0m\u001b[1;32m     20\u001b[0m \u001b[0;34m\u001b[0m\u001b[0m\n\u001b[1;32m     21\u001b[0m     \u001b[0mtracker\u001b[0m\u001b[0;34m(\u001b[0m\u001b[0mloss_dict\u001b[0m\u001b[0;34m,\u001b[0m \u001b[0mrunning_loss\u001b[0m\u001b[0;34m/\u001b[0m\u001b[0mlen\u001b[0m\u001b[0;34m(\u001b[0m\u001b[0mtrain_dl\u001b[0m\u001b[0;34m)\u001b[0m\u001b[0;34m,\u001b[0m \u001b[0mepoch\u001b[0m\u001b[0;34m)\u001b[0m\u001b[0;34m\u001b[0m\u001b[0;34m\u001b[0m\u001b[0m\n",
      "\u001b[0;31mKeyboardInterrupt\u001b[0m: "
     ]
    }
   ],
   "source": [
    "epochs = 100\n",
    "\n",
    "for epoch in range(1, epochs+1):  # loop over the dataset multiple times\n",
    "\n",
    "    running_loss = 0.0\n",
    "    for i, data in enumerate(train_dl, 0):\n",
    "        inputs, labels = data\n",
    "        inputs = inputs.to(device)\n",
    "        labels = labels.to(device)\n",
    "\n",
    "        optimizer.zero_grad()\n",
    "\n",
    "        outputs = resnet50(inputs)\n",
    "        loss = criterion(outputs, labels)\n",
    "        loss.backward()\n",
    "        optimizer.step()\n",
    "\n",
    "        running_loss += loss.item()\n",
    "    \n",
    "    lr_sche.step()\n",
    "\n",
    "    tracker(loss_dict, running_loss/len(train_dl), epoch)\n",
    "    print('{0:>3}/{1:>3} | loss: {2:0.5f}'.format(epoch, epochs, running_loss/len(train_dl)))\n",
    "    \n",
    "    #Check Accuracy\n",
    "    acc = acc_check(resnet50, val_dl, epoch, save=1)\n",
    "    tracker(acc_dict, acc, epoch)"
   ]
  },
  {
   "cell_type": "code",
   "execution_count": 22,
   "metadata": {
    "id": "bv_NB55s9GSp"
   },
   "outputs": [],
   "source": [
    "loss_df = pd.DataFrame(loss_dict.items(), columns=[\"epoch\", \"Loss\"])\n",
    "acc_df = pd.DataFrame(acc_dict.items(), columns=[\"epoch\", \"Accuracy\"])"
   ]
  },
  {
   "cell_type": "code",
   "execution_count": 23,
   "metadata": {
    "colab": {
     "base_uri": "https://localhost:8080/",
     "height": 352
    },
    "id": "_6nNedU59fj0",
    "outputId": "6276651b-fe88-4539-b3e8-58cffa234b2e"
   },
   "outputs": [
    {
     "data": {
      "text/plain": [
       "<matplotlib.axes._subplots.AxesSubplot at 0x7fd9ddac80d0>"
      ]
     },
     "execution_count": 23,
     "metadata": {},
     "output_type": "execute_result"
    },
    {
     "data": {
      "image/png": "[encoded data removed]",
      "text/plain": [
       "<Figure size 1080x360 with 2 Axes>"
      ]
     },
     "metadata": {
      "needs_background": "light"
     },
     "output_type": "display_data"
    }
   ],
   "source": [
    "fig = plt.figure(figsize=(15,5))\n",
    "ax1 = fig.add_subplot(1, 2, 1)\n",
    "ax2 = fig.add_subplot(1, 2, 2)\n",
    "sns.lineplot(data=loss_df, x=\"epoch\", y=\"Loss\", ax=ax1)\n",
    "sns.lineplot(data=acc_df, x=\"epoch\", y=\"Accuracy\", ax=ax2)"
   ]
  },
  {
   "cell_type": "code",
   "execution_count": 24,
   "metadata": {
    "colab": {
     "base_uri": "https://localhost:8080/"
    },
    "id": "E2JE1SWzp2zb",
    "outputId": "d4819bc8-c89a-49e5-a205-6851bb9ff659"
   },
   "outputs": [
    {
     "name": "stdout",
     "output_type": "stream",
     "text": [
      "Accuracy: 88.66000%\n"
     ]
    }
   ],
   "source": [
    "correct = 0\n",
    "total = 0\n",
    "\n",
    "with torch.no_grad():\n",
    "    for data in val_dl:\n",
    "        images, labels = data\n",
    "        images = images.to(device)\n",
    "        labels = labels.to(device)\n",
    "        outputs = resnet50(images)\n",
    "        \n",
    "        _, predicted = torch.max(outputs.data, 1)\n",
    "        \n",
    "        total += labels.size(0)\n",
    "        \n",
    "        correct += (predicted == labels).sum().item()\n",
    "\n",
    "print('Accuracy: {0:0.5f}%'.format(100 * correct / total))"
   ]
  }
 ],
 "metadata": {
  "accelerator": "GPU",
  "colab": {
   "collapsed_sections": [],
   "name": "ResNet",
   "provenance": []
  },
  "kernelspec": {
   "display_name": "Python 3 (ipykernel)",
   "language": "python",
   "name": "python3"
  },
  "language_info": {
   "codemirror_mode": {
    "name": "ipython",
    "version": 3
   },
   "file_extension": ".py",
   "mimetype": "text/x-python",
   "name": "python",
   "nbconvert_exporter": "python",
   "pygments_lexer": "ipython3",
   "version": "3.9.7"
  },
  "widgets": {
   "application/vnd.jupyter.widget-state+json": {
    "01026a89de6a4d568cd7fbc12b14e268": {
     "model_module": "@jupyter-widgets/controls",
     "model_module_version": "1.5.0",
     "model_name": "HBoxModel",
     "state": {
      "_dom_classes": [],
      "_model_module": "@jupyter-widgets/controls",
      "_model_module_version": "1.5.0",
      "_model_name": "HBoxModel",
      "_view_count": null,
      "_view_module": "@jupyter-widgets/controls",
      "_view_module_version": "1.5.0",
      "_view_name": "HBoxView",
      "box_style": "",
      "children": [
       "IPY_MODEL_aa9acd6948254440b8867e1691011b8c",
       "IPY_MODEL_ae6b47cb2a794ceaad07205cf9c542c8",
       "IPY_MODEL_4b3cc200bcc546b3b5923495fc95728e"
      ],
      "layout": "IPY_MODEL_7463fc85069441f8b01c22b0325017c3"
     }
    },
    "173dc9f4cf624a15857d91eec3874424": {
     "model_module": "@jupyter-widgets/base",
     "model_module_version": "1.2.0",
     "model_name": "LayoutModel",
     "state": {
      "_model_module": "@jupyter-widgets/base",
      "_model_module_version": "1.2.0",
      "_model_name": "LayoutModel",
      "_view_count": null,
      "_view_module": "@jupyter-widgets/base",
      "_view_module_version": "1.2.0",
      "_view_name": "LayoutView",
      "align_content": null,
      "align_items": null,
      "align_self": null,
      "border": null,
      "bottom": null,
      "display": null,
      "flex": null,
      "flex_flow": null,
      "grid_area": null,
      "grid_auto_columns": null,
      "grid_auto_flow": null,
      "grid_auto_rows": null,
      "grid_column": null,
      "grid_gap": null,
      "grid_row": null,
      "grid_template_areas": null,
      "grid_template_columns": null,
      "grid_template_rows": null,
      "height": null,
      "justify_content": null,
      "justify_items": null,
      "left": null,
      "margin": null,
      "max_height": null,
      "max_width": null,
      "min_height": null,
      "min_width": null,
      "object_fit": null,
      "object_position": null,
      "order": null,
      "overflow": null,
      "overflow_x": null,
      "overflow_y": null,
      "padding": null,
      "right": null,
      "top": null,
      "visibility": null,
      "width": null
     }
    },
    "36dfd05b8f6e4d288927d499a1a163e3": {
     "model_module": "@jupyter-widgets/controls",
     "model_module_version": "1.5.0",
     "model_name": "DescriptionStyleModel",
     "state": {
      "_model_module": "@jupyter-widgets/controls",
      "_model_module_version": "1.5.0",
      "_model_name": "DescriptionStyleModel",
      "_view_count": null,
      "_view_module": "@jupyter-widgets/base",
      "_view_module_version": "1.2.0",
      "_view_name": "StyleView",
      "description_width": ""
     }
    },
    "4b3cc200bcc546b3b5923495fc95728e": {
     "model_module": "@jupyter-widgets/controls",
     "model_module_version": "1.5.0",
     "model_name": "HTMLModel",
     "state": {
      "_dom_classes": [],
      "_model_module": "@jupyter-widgets/controls",
      "_model_module_version": "1.5.0",
      "_model_name": "HTMLModel",
      "_view_count": null,
      "_view_module": "@jupyter-widgets/controls",
      "_view_module_version": "1.5.0",
      "_view_name": "HTMLView",
      "description": "",
      "description_tooltip": null,
      "layout": "IPY_MODEL_bd72e38a3e2845f485fca85f2a321094",
      "placeholder": "​",
      "style": "IPY_MODEL_4e4fa88ef8d746468028809b5b81730f",
      "value": " 170499072/? [00:11&lt;00:00, 16969463.20it/s]"
     }
    },
    "4e4fa88ef8d746468028809b5b81730f": {
     "model_module": "@jupyter-widgets/controls",
     "model_module_version": "1.5.0",
     "model_name": "DescriptionStyleModel",
     "state": {
      "_model_module": "@jupyter-widgets/controls",
      "_model_module_version": "1.5.0",
      "_model_name": "DescriptionStyleModel",
      "_view_count": null,
      "_view_module": "@jupyter-widgets/base",
      "_view_module_version": "1.2.0",
      "_view_name": "StyleView",
      "description_width": ""
     }
    },
    "7463fc85069441f8b01c22b0325017c3": {
     "model_module": "@jupyter-widgets/base",
     "model_module_version": "1.2.0",
     "model_name": "LayoutModel",
     "state": {
      "_model_module": "@jupyter-widgets/base",
      "_model_module_version": "1.2.0",
      "_model_name": "LayoutModel",
      "_view_count": null,
      "_view_module": "@jupyter-widgets/base",
      "_view_module_version": "1.2.0",
      "_view_name": "LayoutView",
      "align_content": null,
      "align_items": null,
      "align_self": null,
      "border": null,
      "bottom": null,
      "display": null,
      "flex": null,
      "flex_flow": null,
      "grid_area": null,
      "grid_auto_columns": null,
      "grid_auto_flow": null,
      "grid_auto_rows": null,
      "grid_column": null,
      "grid_gap": null,
      "grid_row": null,
      "grid_template_areas": null,
      "grid_template_columns": null,
      "grid_template_rows": null,
      "height": null,
      "justify_content": null,
      "justify_items": null,
      "left": null,
      "margin": null,
      "max_height": null,
      "max_width": null,
      "min_height": null,
      "min_width": null,
      "object_fit": null,
      "object_position": null,
      "order": null,
      "overflow": null,
      "overflow_x": null,
      "overflow_y": null,
      "padding": null,
      "right": null,
      "top": null,
      "visibility": null,
      "width": null
     }
    },
    "aa9acd6948254440b8867e1691011b8c": {
     "model_module": "@jupyter-widgets/controls",
     "model_module_version": "1.5.0",
     "model_name": "HTMLModel",
     "state": {
      "_dom_classes": [],
      "_model_module": "@jupyter-widgets/controls",
      "_model_module_version": "1.5.0",
      "_model_name": "HTMLModel",
      "_view_count": null,
      "_view_module": "@jupyter-widgets/controls",
      "_view_module_version": "1.5.0",
      "_view_name": "HTMLView",
      "description": "",
      "description_tooltip": null,
      "layout": "IPY_MODEL_be9863ddb74a4fdcb3b018851593f5c9",
      "placeholder": "​",
      "style": "IPY_MODEL_36dfd05b8f6e4d288927d499a1a163e3",
      "value": ""
     }
    },
    "ae6b47cb2a794ceaad07205cf9c542c8": {
     "model_module": "@jupyter-widgets/controls",
     "model_module_version": "1.5.0",
     "model_name": "FloatProgressModel",
     "state": {
      "_dom_classes": [],
      "_model_module": "@jupyter-widgets/controls",
      "_model_module_version": "1.5.0",
      "_model_name": "FloatProgressModel",
      "_view_count": null,
      "_view_module": "@jupyter-widgets/controls",
      "_view_module_version": "1.5.0",
      "_view_name": "ProgressView",
      "bar_style": "success",
      "description": "",
      "description_tooltip": null,
      "layout": "IPY_MODEL_173dc9f4cf624a15857d91eec3874424",
      "max": 170498071,
      "min": 0,
      "orientation": "horizontal",
      "style": "IPY_MODEL_c1bfc6aeb18449c2868eec8a8026cc69",
      "value": 170498071
     }
    },
    "bd72e38a3e2845f485fca85f2a321094": {
     "model_module": "@jupyter-widgets/base",
     "model_module_version": "1.2.0",
     "model_name": "LayoutModel",
     "state": {
      "_model_module": "@jupyter-widgets/base",
      "_model_module_version": "1.2.0",
      "_model_name": "LayoutModel",
      "_view_count": null,
      "_view_module": "@jupyter-widgets/base",
      "_view_module_version": "1.2.0",
      "_view_name": "LayoutView",
      "align_content": null,
      "align_items": null,
      "align_self": null,
      "border": null,
      "bottom": null,
      "display": null,
      "flex": null,
      "flex_flow": null,
      "grid_area": null,
      "grid_auto_columns": null,
      "grid_auto_flow": null,
      "grid_auto_rows": null,
      "grid_column": null,
      "grid_gap": null,
      "grid_row": null,
      "grid_template_areas": null,
      "grid_template_columns": null,
      "grid_template_rows": null,
      "height": null,
      "justify_content": null,
      "justify_items": null,
      "left": null,
      "margin": null,
      "max_height": null,
      "max_width": null,
      "min_height": null,
      "min_width": null,
      "object_fit": null,
      "object_position": null,
      "order": null,
      "overflow": null,
      "overflow_x": null,
      "overflow_y": null,
      "padding": null,
      "right": null,
      "top": null,
      "visibility": null,
      "width": null
     }
    },
    "be9863ddb74a4fdcb3b018851593f5c9": {
     "model_module": "@jupyter-widgets/base",
     "model_module_version": "1.2.0",
     "model_name": "LayoutModel",
     "state": {
      "_model_module": "@jupyter-widgets/base",
      "_model_module_version": "1.2.0",
      "_model_name": "LayoutModel",
      "_view_count": null,
      "_view_module": "@jupyter-widgets/base",
      "_view_module_version": "1.2.0",
      "_view_name": "LayoutView",
      "align_content": null,
      "align_items": null,
      "align_self": null,
      "border": null,
      "bottom": null,
      "display": null,
      "flex": null,
      "flex_flow": null,
      "grid_area": null,
      "grid_auto_columns": null,
      "grid_auto_flow": null,
      "grid_auto_rows": null,
      "grid_column": null,
      "grid_gap": null,
      "grid_row": null,
      "grid_template_areas": null,
      "grid_template_columns": null,
      "grid_template_rows": null,
      "height": null,
      "justify_content": null,
      "justify_items": null,
      "left": null,
      "margin": null,
      "max_height": null,
      "max_width": null,
      "min_height": null,
      "min_width": null,
      "object_fit": null,
      "object_position": null,
      "order": null,
      "overflow": null,
      "overflow_x": null,
      "overflow_y": null,
      "padding": null,
      "right": null,
      "top": null,
      "visibility": null,
      "width": null
     }
    },
    "c1bfc6aeb18449c2868eec8a8026cc69": {
     "model_module": "@jupyter-widgets/controls",
     "model_module_version": "1.5.0",
     "model_name": "ProgressStyleModel",
     "state": {
      "_model_module": "@jupyter-widgets/controls",
      "_model_module_version": "1.5.0",
      "_model_name": "ProgressStyleModel",
      "_view_count": null,
      "_view_module": "@jupyter-widgets/base",
      "_view_module_version": "1.2.0",
      "_view_name": "StyleView",
      "bar_color": null,
      "description_width": ""
     }
    }
   }
  }
 },
 "nbformat": 4,
 "nbformat_minor": 1
}
